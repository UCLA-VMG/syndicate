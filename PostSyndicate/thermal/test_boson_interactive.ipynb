{
 "cells": [
  {
   "cell_type": "code",
   "execution_count": 45,
   "metadata": {},
   "outputs": [
    {
     "data": {
      "text/plain": [
       "False"
      ]
     },
     "execution_count": 45,
     "metadata": {},
     "output_type": "execute_result"
    }
   ],
   "source": [
    "#capture.py\n",
    "import cv2\n",
    "device_index = 1\n",
    "cap = cv2.VideoCapture(device_index, cv2.CAP_DSHOW)\n",
    "cap.set(cv2.CAP_PROP_FRAME_HEIGHT, 256)\n",
    "cap.set(cv2.CAP_PROP_FRAME_WIDTH, 320)\n",
    "cap.set(cv2.CAP_PROP_FOURCC, cv2.VideoWriter.fourcc('Y','1','6',' '))\n",
    "# cap.set(cv2.CAP_PROP_FOURCC, cv2.VideoWriter.fourcc('Y','4','1','6'))\n",
    "\n",
    "# cap.set(cv2.CAP_PROP_CONVERT_RGB, 0)\n"
   ]
  },
  {
   "cell_type": "code",
   "execution_count": 46,
   "metadata": {},
   "outputs": [
    {
     "name": "stdout",
     "output_type": "stream",
     "text": [
      "None\n",
      "None\n",
      "None\n",
      "None\n",
      "None\n",
      "None\n",
      "None\n",
      "None\n",
      "None\n",
      "None\n"
     ]
    }
   ],
   "source": [
    "folder = r\"C:\\Users\\111\\Desktop\\repos\\syndicate\\PostSyndicate\\thermal\"\n",
    "framecount=10\n",
    "frame_buf=[]\n",
    "for _ in range(framecount): #record indefinitely (until user presses q), replace with \"while True\"\n",
    "    stream_ret, frame = cap.read()\n",
    "    print(frame)\n",
    "    if stream_ret:\n",
    "        cv2.imshow(\"image\", frame)\n",
    "        if cv2.waitKey(1) == ord('q'):\n",
    "            break;\n",
    "        frame_buf.append(frame)\n",
    "        \n",
    "cv2.destroyAllWindows()\n",
    "\n",
    "#Below is example code to save images to \"folder\" (Use appropriate directory syntax.)\n",
    "num=0\n",
    "while len(frame_buf)>0:\n",
    "    cv2.imwrite(f'{folder}/cap_{num}.tiff', frame_buf.pop(0))\n",
    "    num += 1"
   ]
  },
  {
   "cell_type": "code",
   "execution_count": 50,
   "metadata": {},
   "outputs": [],
   "source": [
    "def get_fourcc(cap: cv2.VideoCapture):\n",
    "    fourcc = int(cap.get(cv2.CAP_PROP_FOURCC))\n",
    "    print(fourcc)\n",
    "    fourcc = bytes([\n",
    "        v & 255 for v in (fourcc, fourcc >> 8, fourcc >> 16, fourcc >> 24)\n",
    "    ]).decode()\n",
    "    return fourcc"
   ]
  },
  {
   "cell_type": "code",
   "execution_count": 51,
   "metadata": {},
   "outputs": [
    {
     "name": "stdout",
     "output_type": "stream",
     "text": [
      "0\n"
     ]
    },
    {
     "data": {
      "text/plain": [
       "'\\x00\\x00\\x00\\x00'"
      ]
     },
     "execution_count": 51,
     "metadata": {},
     "output_type": "execute_result"
    }
   ],
   "source": [
    "get_fourcc(cap)"
   ]
  },
  {
   "cell_type": "code",
   "execution_count": 39,
   "metadata": {},
   "outputs": [
    {
     "name": "stdout",
     "output_type": "stream",
     "text": [
      "(258, 320, 3)\n"
     ]
    }
   ],
   "source": [
    "print(frame.shape)"
   ]
  },
  {
   "cell_type": "code",
   "execution_count": 40,
   "metadata": {},
   "outputs": [
    {
     "data": {
      "text/plain": [
       "array([93, 93, 93], dtype=uint8)"
      ]
     },
     "execution_count": 40,
     "metadata": {},
     "output_type": "execute_result"
    }
   ],
   "source": [
    "frame[100,100]"
   ]
  },
  {
   "cell_type": "code",
   "execution_count": null,
   "metadata": {},
   "outputs": [],
   "source": []
  }
 ],
 "metadata": {
  "kernelspec": {
   "display_name": "Python 3.8.12 ('mm_p')",
   "language": "python",
   "name": "python3"
  },
  "language_info": {
   "codemirror_mode": {
    "name": "ipython",
    "version": 3
   },
   "file_extension": ".py",
   "mimetype": "text/x-python",
   "name": "python",
   "nbconvert_exporter": "python",
   "pygments_lexer": "ipython3",
   "version": "3.8.12"
  },
  "orig_nbformat": 4,
  "vscode": {
   "interpreter": {
    "hash": "7a1f192bbb79fcd4bf341e4c0d7356c02bc04710020f1be0a1cc40835fd7f080"
   }
  }
 },
 "nbformat": 4,
 "nbformat_minor": 2
}
