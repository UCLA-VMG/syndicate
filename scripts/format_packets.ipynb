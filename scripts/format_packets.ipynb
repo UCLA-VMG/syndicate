{
 "cells": [
  {
   "cell_type": "code",
   "execution_count": 1,
   "metadata": {},
   "outputs": [
    {
     "name": "stderr",
     "output_type": "stream",
     "text": [
      "c:\\Users\\111\\.conda\\envs\\mm_p\\lib\\site-packages\\numpy\\_distributor_init.py:30: UserWarning: loaded more than 1 DLL from .libs:\n",
      "c:\\Users\\111\\.conda\\envs\\mm_p\\lib\\site-packages\\numpy\\.libs\\libopenblas.EL2C6PLE4ZYW3ECEVIV3OXXGRN2NRFM2.gfortran-win_amd64.dll\n",
      "c:\\Users\\111\\.conda\\envs\\mm_p\\lib\\site-packages\\numpy\\.libs\\libopenblas.XWYDX2IKJW2NMTWSFYNGFUWKQU3LYTCZ.gfortran-win_amd64.dll\n",
      "  warnings.warn(\"loaded more than 1 DLL from .libs:\"\n"
     ]
    }
   ],
   "source": [
    "from pcapreader import PcapReader\n",
    "import numpy as np \n",
    "import struct\n"
   ]
  },
  {
   "cell_type": "code",
   "execution_count": 16,
   "metadata": {},
   "outputs": [],
   "source": [
    "# STATIC\n",
    "MAX_PACKET_SIZE = 4096\n",
    "BYTES_IN_PACKET = 1456\n",
    "BYTES_IN_HEADER = 10\n",
    "ADC_PARAMS = {'chirps': 8,  # 32\n",
    "              'rx': 4,\n",
    "              'tx': 3,\n",
    "              'samples': 256,\n",
    "              'IQ': 2,\n",
    "              'bytes': 2}\n",
    "\n",
    "# DYNAMIC\n",
    "BYTES_IN_FRAME = (ADC_PARAMS['chirps'] * ADC_PARAMS['rx'] * ADC_PARAMS['tx'] *\n",
    "                  ADC_PARAMS['IQ'] * ADC_PARAMS['samples'] * ADC_PARAMS['bytes'])\n",
    "BYTES_IN_FRAME_CLIPPED = (BYTES_IN_FRAME // BYTES_IN_PACKET) * BYTES_IN_PACKET\n",
    "PACKETS_IN_FRAME = BYTES_IN_FRAME / BYTES_IN_PACKET\n",
    "PACKETS_IN_FRAME_CLIPPED = BYTES_IN_FRAME // BYTES_IN_PACKET\n",
    "UINT16_IN_PACKET = BYTES_IN_PACKET // 2\n",
    "UINT16_IN_FRAME = BYTES_IN_FRAME // 2\n"
   ]
  },
  {
   "cell_type": "code",
   "execution_count": 17,
   "metadata": {},
   "outputs": [
    {
     "data": {
      "text/plain": [
       "3"
      ]
     },
     "execution_count": 17,
     "metadata": {},
     "output_type": "execute_result"
    }
   ],
   "source": [
    "6//2"
   ]
  },
  {
   "cell_type": "code",
   "execution_count": 18,
   "metadata": {},
   "outputs": [
    {
     "name": "stdout",
     "output_type": "stream",
     "text": [
      "98304 97552\n"
     ]
    }
   ],
   "source": [
    "print(BYTES_IN_FRAME, BYTES_IN_FRAME_CLIPPED)"
   ]
  },
  {
   "cell_type": "code",
   "execution_count": 19,
   "metadata": {},
   "outputs": [],
   "source": [
    "def format_frames(data_packets):\n",
    "    frames = []\n",
    "\n",
    "    # Frame buffer\n",
    "    packet_ctr = 0\n",
    "    debug_cnt = 0\n",
    "    MAX_PACKET_COUNT = len(data_packets)\n",
    "    while(packet_ctr != MAX_PACKET_COUNT):\n",
    "        print(packet_ctr)\n",
    "        ret_frame = np.zeros(UINT16_IN_FRAME, dtype=np.uint16)\n",
    "\n",
    "        # Wait for start of next frame\n",
    "        while True:\n",
    "            packet_num, byte_count, packet_data = data_packets[packet_ctr]\n",
    "            packet_ctr +=1\n",
    "            if byte_count % BYTES_IN_FRAME_CLIPPED == 0:\n",
    "                packets_read = 1\n",
    "                ret_frame[0:UINT16_IN_PACKET] = packet_data = packet_data\n",
    "                break\n",
    "            # if(packet_ctr >=MAX_PACKET_COUNT):\n",
    "            #     break\n",
    "\n",
    "        if(packet_ctr >=MAX_PACKET_COUNT):\n",
    "                break\n",
    "        # Read in the rest of the frame            \n",
    "        while True:\n",
    "            packet_num, byte_count, packet_data = data_packets[packet_ctr]\n",
    "            packet_ctr+=1\n",
    "            if(packet_ctr >=MAX_PACKET_COUNT):\n",
    "                break\n",
    "            packets_read += 1\n",
    "\n",
    "            if byte_count % BYTES_IN_FRAME_CLIPPED == 0:\n",
    "                print(f\"Num packets lost = {PACKETS_IN_FRAME_CLIPPED - packets_read}\")\n",
    "                frames.append(ret_frame)\n",
    "                break\n",
    "\n",
    "            curr_idx = ((packet_num - 1) % PACKETS_IN_FRAME_CLIPPED)\n",
    "            try:\n",
    "                ret_frame[curr_idx * UINT16_IN_PACKET:(curr_idx + 1) * UINT16_IN_PACKET] = packet_data\n",
    "            except:\n",
    "                pass\n",
    "\n",
    "            if packets_read > PACKETS_IN_FRAME_CLIPPED:\n",
    "                packets_read = 0\n",
    "        \n",
    "        if(packet_ctr >=MAX_PACKET_COUNT):\n",
    "                break\n",
    "    \n",
    "    return frames"
   ]
  },
  {
   "cell_type": "code",
   "execution_count": 20,
   "metadata": {},
   "outputs": [],
   "source": [
    "def organize(raw_frame, num_chirps, num_rx, num_samples):\n",
    "        \"\"\"Reorganizes raw ADC data into a full frame\n",
    "\n",
    "        Args:\n",
    "            raw_frame (ndarray): Data to format\n",
    "            num_chirps: Number of chirps included in the frame\n",
    "            num_rx: Number of receivers used in the frame\n",
    "            num_samples: Number of ADC samples included in each chirp\n",
    "\n",
    "        Returns:\n",
    "            ndarray: Reformatted frame of raw data of shape (num_chirps, num_rx, num_samples)\n",
    "\n",
    "        \"\"\"\n",
    "        ret = np.zeros(len(raw_frame) // 2, dtype=complex)\n",
    "\n",
    "        # Separate IQ data\n",
    "        ret[0::2] = raw_frame[0::4] + 1j * raw_frame[2::4]\n",
    "        ret[1::2] = raw_frame[1::4] + 1j * raw_frame[3::4]\n",
    "        return ret.reshape((num_chirps, num_rx, num_samples))"
   ]
  },
  {
   "cell_type": "code",
   "execution_count": 21,
   "metadata": {},
   "outputs": [],
   "source": [
    "def organize_all(data, params):\n",
    "    assert len(params) == 3\n",
    "    \n",
    "    organized_data = []\n",
    "    for i in range(len(data)):\n",
    "        organized_data.append(organize(data[i], *params))\n",
    "\n",
    "    return organized_data"
   ]
  },
  {
   "cell_type": "code",
   "execution_count": 31,
   "metadata": {},
   "outputs": [
    {
     "name": "stdout",
     "output_type": "stream",
     "text": [
      "8\n",
      "8\n",
      "8\n",
      "8\n",
      "8\n",
      "Count: 48\n",
      "True Packet Count: 42\n"
     ]
    }
   ],
   "source": [
    "data_packets = []\n",
    "packet_numbers = []\n",
    "byte_counts = []\n",
    "packet_arrivals = []\n",
    "\n",
    "reader = PcapReader(\"D:\\syndicate_tests_sv_radar_test_4rx_3tx\\FMCW_Radar\\FMCW_Radar.raw\")\n",
    "next_packet = reader.pnext()\n",
    "count = 1\n",
    "prev_time = 0\n",
    "while next_packet[0] is not None:\n",
    "    curr_time = next_packet[0][0]\n",
    "    data_=next_packet[1]\n",
    "    data = data_[42:]\n",
    "    if(len(data) == BYTES_IN_HEADER + BYTES_IN_PACKET):\n",
    "        packet_num = struct.unpack('<1l', data[:4])[0]\n",
    "        packet_numbers.append(packet_num)\n",
    "\n",
    "        byte_count = struct.unpack('>Q', b'\\x00\\x00' + data[4:10][::-1])[0]\n",
    "        byte_counts.append(byte_count)\n",
    "\n",
    "        data = data[10:]\n",
    "        data_packets.append(np.frombuffer(data, dtype=np.uint16))\n",
    "    else:\n",
    "        print(len(data))\n",
    "\n",
    "    next_packet = reader.pnext()\n",
    "    count+=1\n",
    "\n",
    "print(\"Count:\", count)\n",
    "print(\"True Packet Count:\", len(data_packets))\n",
    "\n",
    "all_data = list(zip(packet_numbers, byte_counts, data_packets))\n"
   ]
  },
  {
   "cell_type": "code",
   "execution_count": 32,
   "metadata": {},
   "outputs": [
    {
     "name": "stdout",
     "output_type": "stream",
     "text": [
      "0\n"
     ]
    }
   ],
   "source": [
    "frames = format_frames(all_data)"
   ]
  },
  {
   "cell_type": "code",
   "execution_count": 33,
   "metadata": {},
   "outputs": [
    {
     "data": {
      "text/plain": [
       "0"
      ]
     },
     "execution_count": 33,
     "metadata": {},
     "output_type": "execute_result"
    },
    {
     "ename": "",
     "evalue": "",
     "output_type": "error",
     "traceback": [
      "\u001b[1;31mThe Kernel crashed while executing code in the the current cell or a previous cell. Please review the code in the cell(s) to identify a possible cause of the failure. Click <a href='https://aka.ms/vscodeJupyterKernelCrash'>here</a> for more info. View Jupyter <a href='command:jupyter.viewOutput'>log</a> for further details."
     ]
    }
   ],
   "source": [
    "len(frames)"
   ]
  },
  {
   "cell_type": "code",
   "execution_count": 26,
   "metadata": {},
   "outputs": [
    {
     "data": {
      "text/plain": [
       "2.52"
      ]
     },
     "execution_count": 26,
     "metadata": {},
     "output_type": "execute_result"
    }
   ],
   "source": [
    "len(frames)/100"
   ]
  },
  {
   "cell_type": "code",
   "execution_count": 27,
   "metadata": {},
   "outputs": [
    {
     "data": {
      "text/plain": [
       "(49152,)"
      ]
     },
     "execution_count": 27,
     "metadata": {},
     "output_type": "execute_result"
    }
   ],
   "source": [
    "frames[0].shape"
   ]
  },
  {
   "cell_type": "code",
   "execution_count": 30,
   "metadata": {},
   "outputs": [
    {
     "data": {
      "text/plain": [
       "24576"
      ]
     },
     "execution_count": 30,
     "metadata": {},
     "output_type": "execute_result"
    }
   ],
   "source": [
    "256*4*3*8"
   ]
  },
  {
   "cell_type": "code",
   "execution_count": 28,
   "metadata": {},
   "outputs": [],
   "source": [
    "import matplotlib.pyplot as plt "
   ]
  },
  {
   "cell_type": "code",
   "execution_count": 29,
   "metadata": {},
   "outputs": [
    {
     "data": {
      "text/plain": [
       "[<matplotlib.lines.Line2D at 0x26d87801760>]"
      ]
     },
     "execution_count": 29,
     "metadata": {},
     "output_type": "execute_result"
    },
    {
     "data": {
      "image/png": "[encoded data removed]",
      "text/plain": [
       "<Figure size 432x288 with 1 Axes>"
      ]
     },
     "metadata": {
      "needs_background": "light"
     },
     "output_type": "display_data"
    }
   ],
   "source": [
    "idx = 1\n",
    "plt.plot(frames[idx][::2].astype(np.int16))"
   ]
  },
  {
   "cell_type": "code",
   "execution_count": 15,
   "metadata": {},
   "outputs": [
    {
     "ename": "ValueError",
     "evalue": "cannot reshape array of size 3072 into shape (3,4,512)",
     "output_type": "error",
     "traceback": [
      "\u001b[1;31m---------------------------------------------------------------------------\u001b[0m",
      "\u001b[1;31mValueError\u001b[0m                                Traceback (most recent call last)",
      "\u001b[1;32m~\\AppData\\Local\\Temp/ipykernel_22524/1939056454.py\u001b[0m in \u001b[0;36m<module>\u001b[1;34m\u001b[0m\n\u001b[1;32m----> 1\u001b[1;33m \u001b[0morganized_packets\u001b[0m \u001b[1;33m=\u001b[0m \u001b[0morganize_all\u001b[0m\u001b[1;33m(\u001b[0m\u001b[0mframes\u001b[0m\u001b[1;33m,\u001b[0m \u001b[0mparams\u001b[0m\u001b[1;33m=\u001b[0m\u001b[1;33m(\u001b[0m\u001b[1;36m3\u001b[0m\u001b[1;33m,\u001b[0m\u001b[1;36m4\u001b[0m\u001b[1;33m,\u001b[0m\u001b[1;36m512\u001b[0m\u001b[1;33m)\u001b[0m\u001b[1;33m)\u001b[0m\u001b[1;33m\u001b[0m\u001b[1;33m\u001b[0m\u001b[0m\n\u001b[0m",
      "\u001b[1;32m~\\AppData\\Local\\Temp/ipykernel_22524/143351541.py\u001b[0m in \u001b[0;36morganize_all\u001b[1;34m(data, params)\u001b[0m\n\u001b[0;32m      4\u001b[0m     \u001b[0morganized_data\u001b[0m \u001b[1;33m=\u001b[0m \u001b[1;33m[\u001b[0m\u001b[1;33m]\u001b[0m\u001b[1;33m\u001b[0m\u001b[1;33m\u001b[0m\u001b[0m\n\u001b[0;32m      5\u001b[0m     \u001b[1;32mfor\u001b[0m \u001b[0mi\u001b[0m \u001b[1;32min\u001b[0m \u001b[0mrange\u001b[0m\u001b[1;33m(\u001b[0m\u001b[0mlen\u001b[0m\u001b[1;33m(\u001b[0m\u001b[0mdata\u001b[0m\u001b[1;33m)\u001b[0m\u001b[1;33m)\u001b[0m\u001b[1;33m:\u001b[0m\u001b[1;33m\u001b[0m\u001b[1;33m\u001b[0m\u001b[0m\n\u001b[1;32m----> 6\u001b[1;33m         \u001b[0morganized_data\u001b[0m\u001b[1;33m.\u001b[0m\u001b[0mappend\u001b[0m\u001b[1;33m(\u001b[0m\u001b[0morganize\u001b[0m\u001b[1;33m(\u001b[0m\u001b[0mdata\u001b[0m\u001b[1;33m[\u001b[0m\u001b[0mi\u001b[0m\u001b[1;33m]\u001b[0m\u001b[1;33m,\u001b[0m \u001b[1;33m*\u001b[0m\u001b[0mparams\u001b[0m\u001b[1;33m)\u001b[0m\u001b[1;33m)\u001b[0m\u001b[1;33m\u001b[0m\u001b[1;33m\u001b[0m\u001b[0m\n\u001b[0m\u001b[0;32m      7\u001b[0m \u001b[1;33m\u001b[0m\u001b[0m\n\u001b[0;32m      8\u001b[0m     \u001b[1;32mreturn\u001b[0m \u001b[0morganized_data\u001b[0m\u001b[1;33m\u001b[0m\u001b[1;33m\u001b[0m\u001b[0m\n",
      "\u001b[1;32m~\\AppData\\Local\\Temp/ipykernel_22524/2432415527.py\u001b[0m in \u001b[0;36morganize\u001b[1;34m(raw_frame, num_chirps, num_rx, num_samples)\u001b[0m\n\u001b[0;32m     17\u001b[0m         \u001b[0mret\u001b[0m\u001b[1;33m[\u001b[0m\u001b[1;36m0\u001b[0m\u001b[1;33m:\u001b[0m\u001b[1;33m:\u001b[0m\u001b[1;36m2\u001b[0m\u001b[1;33m]\u001b[0m \u001b[1;33m=\u001b[0m \u001b[0mraw_frame\u001b[0m\u001b[1;33m[\u001b[0m\u001b[1;36m0\u001b[0m\u001b[1;33m:\u001b[0m\u001b[1;33m:\u001b[0m\u001b[1;36m4\u001b[0m\u001b[1;33m]\u001b[0m \u001b[1;33m+\u001b[0m \u001b[1;36m1j\u001b[0m \u001b[1;33m*\u001b[0m \u001b[0mraw_frame\u001b[0m\u001b[1;33m[\u001b[0m\u001b[1;36m2\u001b[0m\u001b[1;33m:\u001b[0m\u001b[1;33m:\u001b[0m\u001b[1;36m4\u001b[0m\u001b[1;33m]\u001b[0m\u001b[1;33m\u001b[0m\u001b[1;33m\u001b[0m\u001b[0m\n\u001b[0;32m     18\u001b[0m         \u001b[0mret\u001b[0m\u001b[1;33m[\u001b[0m\u001b[1;36m1\u001b[0m\u001b[1;33m:\u001b[0m\u001b[1;33m:\u001b[0m\u001b[1;36m2\u001b[0m\u001b[1;33m]\u001b[0m \u001b[1;33m=\u001b[0m \u001b[0mraw_frame\u001b[0m\u001b[1;33m[\u001b[0m\u001b[1;36m1\u001b[0m\u001b[1;33m:\u001b[0m\u001b[1;33m:\u001b[0m\u001b[1;36m4\u001b[0m\u001b[1;33m]\u001b[0m \u001b[1;33m+\u001b[0m \u001b[1;36m1j\u001b[0m \u001b[1;33m*\u001b[0m \u001b[0mraw_frame\u001b[0m\u001b[1;33m[\u001b[0m\u001b[1;36m3\u001b[0m\u001b[1;33m:\u001b[0m\u001b[1;33m:\u001b[0m\u001b[1;36m4\u001b[0m\u001b[1;33m]\u001b[0m\u001b[1;33m\u001b[0m\u001b[1;33m\u001b[0m\u001b[0m\n\u001b[1;32m---> 19\u001b[1;33m         \u001b[1;32mreturn\u001b[0m \u001b[0mret\u001b[0m\u001b[1;33m.\u001b[0m\u001b[0mreshape\u001b[0m\u001b[1;33m(\u001b[0m\u001b[1;33m(\u001b[0m\u001b[0mnum_chirps\u001b[0m\u001b[1;33m,\u001b[0m \u001b[0mnum_rx\u001b[0m\u001b[1;33m,\u001b[0m \u001b[0mnum_samples\u001b[0m\u001b[1;33m)\u001b[0m\u001b[1;33m)\u001b[0m\u001b[1;33m\u001b[0m\u001b[1;33m\u001b[0m\u001b[0m\n\u001b[0m",
      "\u001b[1;31mValueError\u001b[0m: cannot reshape array of size 3072 into shape (3,4,512)"
     ]
    }
   ],
   "source": [
    "organized_packets = organize_all(frames, params=(3,4,512))"
   ]
  },
  {
   "cell_type": "code",
   "execution_count": 142,
   "metadata": {},
   "outputs": [
    {
     "name": "stdout",
     "output_type": "stream",
     "text": [
      "316 (3, 4, 512)\n"
     ]
    }
   ],
   "source": [
    "print(len(organized_packets), organized_packets[0].shape)"
   ]
  },
  {
   "cell_type": "code",
   "execution_count": 143,
   "metadata": {},
   "outputs": [
    {
     "data": {
      "text/plain": [
       "3792"
      ]
     },
     "execution_count": 143,
     "metadata": {},
     "output_type": "execute_result"
    }
   ],
   "source": [
    "316*3*4"
   ]
  },
  {
   "cell_type": "code",
   "execution_count": 140,
   "metadata": {},
   "outputs": [
    {
     "data": {
      "text/plain": [
       "[<matplotlib.lines.Line2D at 0x20fd63d4e20>]"
      ]
     },
     "execution_count": 140,
     "metadata": {},
     "output_type": "execute_result"
    },
    {
     "data": {
      "image/png": "[encoded data removed]",
      "text/plain": [
       "<Figure size 432x288 with 1 Axes>"
      ]
     },
     "metadata": {
      "needs_background": "light"
     },
     "output_type": "display_data"
    }
   ],
   "source": [
    "plt.plot(np.real(organized_packets[-1][0,0][::2]).astype(np.int16))\n",
    "plt.plot(np.imag(organized_packets[-1][0,0][::2]).astype(np.int16))"
   ]
  },
  {
   "cell_type": "code",
   "execution_count": null,
   "metadata": {},
   "outputs": [],
   "source": []
  },
  {
   "cell_type": "code",
   "execution_count": 141,
   "metadata": {},
   "outputs": [
    {
     "name": "stderr",
     "output_type": "stream",
     "text": [
      "c:\\Users\\111\\.conda\\envs\\mm_p\\lib\\site-packages\\matplotlib\\cbook\\__init__.py:1298: ComplexWarning: Casting complex values to real discards the imaginary part\n",
      "  return np.asarray(x, float)\n"
     ]
    },
    {
     "data": {
      "text/plain": [
       "[<matplotlib.lines.Line2D at 0x20fd8a9c610>]"
      ]
     },
     "execution_count": 141,
     "metadata": {},
     "output_type": "execute_result"
    },
    {
     "data": {
      "image/png": "[encoded data removed]",
      "text/plain": [
       "<Figure size 432x288 with 1 Axes>"
      ]
     },
     "metadata": {
      "needs_background": "light"
     },
     "output_type": "display_data"
    }
   ],
   "source": [
    "plt.plot(np.fft.fft(organized_packets[0][0,0][::2]))"
   ]
  },
  {
   "cell_type": "code",
   "execution_count": null,
   "metadata": {},
   "outputs": [],
   "source": [
    "reader = PcapReader(\"D:\\syndicate_tests\\FMCW_Radar\\FMCW_Radar.raw\")\n",
    "next_packet = reader.pnext()\n",
    "count = 1\n",
    "prev_time = 0\n",
    "packet_list = [0]\n",
    "while next_packet[0] is not None:\n",
    "    print(count)\n",
    "    curr_time = next_packet[0][0]\n",
    "    print(next_packet[0])\n",
    "    print(curr_time - prev_time)    \n",
    "    data_=next_packet[1]\n",
    "    data = data_[42:]\n",
    "    try:\n",
    "        if (curr_time - prev_time) > 0.008:\n",
    "            print(\"--Marker--\")\n",
    "        print(len(data))\n",
    "        packet_num = struct.unpack('<1l', data[:4])[0]\n",
    "        byte_count = struct.unpack('>Q', b'\\x00\\x00' + data[4:10][::-1])[0]\n",
    "        print(packet_num)\n",
    "        print(byte_count)\n",
    "        if (packet_list[-1] != packet_num - 1) and count != 1:\n",
    "            print(\"--Why???--\")\n",
    "        else:\n",
    "            packet_list.append(packet_num)\n",
    "    except:\n",
    "        print(count, \"Fails\")\n",
    "    print()\n",
    "    next_packet = reader.pnext()\n",
    "    count+=1\n",
    "    prev_time = curr_time\n",
    "packet_list.pop(0)\n",
    "packet_list = np.array(packet_list)\n",
    "print(\"Count:\", count)\n",
    "print(len(packet_list[1:] - packet_list[:-1]))\n",
    "print(np.sum((packet_list[1:] - packet_list[:-1])==1))"
   ]
  }
 ],
 "metadata": {
  "interpreter": {
   "hash": "7a1f192bbb79fcd4bf341e4c0d7356c02bc04710020f1be0a1cc40835fd7f080"
  },
  "kernelspec": {
   "display_name": "Python 3.8.12 ('mm_p')",
   "language": "python",
   "name": "python3"
  },
  "language_info": {
   "codemirror_mode": {
    "name": "ipython",
    "version": 3
   },
   "file_extension": ".py",
   "mimetype": "text/x-python",
   "name": "python",
   "nbconvert_exporter": "python",
   "pygments_lexer": "ipython3",
   "version": "3.8.12"
  },
  "orig_nbformat": 4
 },
 "nbformat": 4,
 "nbformat_minor": 2
}
